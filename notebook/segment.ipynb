{
 "cells": [
  {
   "cell_type": "code",
   "execution_count": 9,
   "id": "86af0e73",
   "metadata": {},
   "outputs": [],
   "source": [
    "import os\n",
    "import warnings\n",
    "\n",
    "import importlib.util\n",
    "from pathlib import Path\n",
    "PROJECT_ROOT = Path.cwd()\n",
    "helper_path = PROJECT_ROOT / \"..\" /\"src\" / \"utils.py\"\n",
    "spec = importlib.util.spec_from_file_location(\"utils\", helper_path)\n",
    "utils = importlib.util.module_from_spec(spec)\n",
    "spec.loader.exec_module(utils)\n",
    "\n",
    "warnings.filterwarnings(\"ignore\")"
   ]
  },
  {
   "cell_type": "code",
   "execution_count": 15,
   "id": "18b2498c",
   "metadata": {},
   "outputs": [],
   "source": [
    "os.environ[\"CUDA_VISIBLE_DEVICES\"] = \"\"\n",
    "#cuda is disabled due to bug"
   ]
  },
  {
   "cell_type": "code",
   "execution_count": 16,
   "id": "fba1f91c",
   "metadata": {},
   "outputs": [
    {
     "name": "stderr",
     "output_type": "stream",
     "text": [
      "2025-10-10 13:08:37.026952: I tensorflow/core/util/port.cc:153] oneDNN custom operations are on. You may see slightly different numerical results due to floating-point round-off errors from different computation orders. To turn them off, set the environment variable `TF_ENABLE_ONEDNN_OPTS=0`.\n",
      "2025-10-10 13:08:37.159613: I tensorflow/core/platform/cpu_feature_guard.cc:210] This TensorFlow binary is optimized to use available CPU instructions in performance-critical operations.\n",
      "To enable the following instructions: AVX2 AVX512F AVX512_VNNI AVX512_BF16 FMA, in other operations, rebuild TensorFlow with the appropriate compiler flags.\n",
      "2025-10-10 13:08:40.168362: I tensorflow/core/util/port.cc:153] oneDNN custom operations are on. You may see slightly different numerical results due to floating-point round-off errors from different computation orders. To turn them off, set the environment variable `TF_ENABLE_ONEDNN_OPTS=0`.\n"
     ]
    },
    {
     "name": "stdout",
     "output_type": "stream",
     "text": [
      "torch: 2.8.0+cu128 cuda? False\n",
      "tf: 2.20.0\n"
     ]
    }
   ],
   "source": [
    "import torch, tensorflow as tf\n",
    "torch.backends.cudnn.enabled = True\n",
    "print(\"torch:\", torch.__version__, \"cuda?\", torch.cuda.is_available())\n",
    "print(\"tf:\", tf.__version__)\n",
    "if torch.cuda.is_available():\n",
    "    print(\"GPU(s):\", torch.cuda.device_count(), torch.cuda.get_device_name(0))"
   ]
  },
  {
   "cell_type": "code",
   "execution_count": 17,
   "id": "ca6eb183",
   "metadata": {},
   "outputs": [
    {
     "name": "stdout",
     "output_type": "stream",
     "text": [
      "Torch build: 2.8.0+cu128\n",
      "CUDA compiled: 12.8\n",
      "cuDNN enabled: True\n",
      "Device count: 0\n",
      "2.8.0+cu128\n"
     ]
    }
   ],
   "source": [
    "print(\"Torch build:\", torch.__version__)\n",
    "print(\"CUDA compiled:\", torch.version.cuda)\n",
    "print(\"cuDNN enabled:\", torch.backends.cudnn.enabled)\n",
    "print(\"Device count:\", torch.cuda.device_count())\n",
    "print(torch.__version__)\n"
   ]
  },
  {
   "cell_type": "code",
   "execution_count": null,
   "id": "111ce15d",
   "metadata": {},
   "outputs": [
    {
     "name": "stdout",
     "output_type": "stream",
     "text": [
      "/home/niagui/programs/VAextractor/notebook\n"
     ]
    }
   ],
   "source": [
    "import musicsections\n",
    "print(Path.cwd())\n",
    "deepsim_model_folder = PROJECT_ROOT/\"..\"/\"external\"/\"musicseg_deepemb\"/\"models\"/\"deepsim\"\n",
    "fewshot_model_folder = PROJECT_ROOT/\"..\"/\"external\"/\"musicseg_deepemb\"/\"models\"/\"fewshot\"\n",
    "\n",
    "model_deepsim = musicsections.load_deepsim_model(deepsim_model_folder)\n",
    "model_fewshot = musicsections.load_fewshot_model(fewshot_model_folder)\n"
   ]
  },
  {
   "cell_type": "code",
   "execution_count": null,
   "id": "1e59b241",
   "metadata": {},
   "outputs": [],
   "source": [
    "audiofile = \"../audio/testSong.mp3\"\n",
    "segmentations, features = musicsections.segment_file(\n",
    "    audiofile, \n",
    "    deepsim_model=model_deepsim,\n",
    "    fewshot_model=model_fewshot,\n",
    "    min_duration=8,\n",
    "    mu=0.5,\n",
    "    gamma=0.5,\n",
    "    beats_alg=\"librosa\",\n",
    "    beats_file=None)\n",
    "\n",
    "musicsections.plot_segmentation(segmentations)"
   ]
  },
  {
   "cell_type": "code",
   "execution_count": 7,
   "id": "e2bac26f",
   "metadata": {},
   "outputs": [
    {
     "name": "stdout",
     "output_type": "stream",
     "text": [
      "dict_keys(['epoch', 'state'])\n"
     ]
    }
   ],
   "source": [
    "import torch\n",
    "model = torch.load(\"musicseg_deepemb/models/fewshot/best_model.tar\", map_location=\"cpu\")\n",
    "print(model.keys())"
   ]
  },
  {
   "cell_type": "code",
   "execution_count": 8,
   "id": "edf11809",
   "metadata": {},
   "outputs": [
    {
     "data": {
      "text/plain": [
       "[([(0.0, 198.69315192743764)], ['0']),\n",
       " ([(0.0, 125.59673469387755),\n",
       "   (125.59673469387755, 161.84308390022676),\n",
       "   (161.84308390022676, 198.69315192743764)],\n",
       "  ['0', '1', '0']),\n",
       " ([(0.0, 15.74312925170068),\n",
       "   (15.74312925170068, 117.81804988662131),\n",
       "   (117.81804988662131, 161.47156462585033),\n",
       "   (161.47156462585033, 198.69315192743764)],\n",
       "  ['2', '0', '1', '0']),\n",
       " ([(0.0, 14.953650793650795),\n",
       "   (14.953650793650795, 41.07609977324263),\n",
       "   (41.07609977324263, 64.85333333333334),\n",
       "   (64.85333333333334, 117.42331065759637),\n",
       "   (117.42331065759637, 161.47156462585033),\n",
       "   (161.47156462585033, 198.69315192743764)],\n",
       "  ['2', '0', '3', '0', '1', '3']),\n",
       " ([(0.0, 14.953650793650795),\n",
       "   (14.953650793650795, 41.07609977324263),\n",
       "   (41.07609977324263, 64.85333333333334),\n",
       "   (64.85333333333334, 109.2498866213152),\n",
       "   (109.2498866213152, 125.59673469387755),\n",
       "   (125.59673469387755, 161.0768253968254),\n",
       "   (161.0768253968254, 198.69315192743764)],\n",
       "  ['2', '0', '3', '0', '4', '1', '3']),\n",
       " ([(0.0, 14.187392290249432),\n",
       "   (14.187392290249432, 27.445986394557824),\n",
       "   (27.445986394557824, 41.07609977324263),\n",
       "   (41.07609977324263, 64.85333333333334),\n",
       "   (64.85333333333334, 108.85514739229025),\n",
       "   (108.85514739229025, 125.59673469387755),\n",
       "   (125.59673469387755, 161.0768253968254),\n",
       "   (161.0768253968254, 198.69315192743764)],\n",
       "  ['2', '5', '0', '3', '0', '4', '1', '3']),\n",
       " ([(0.0, 14.187392290249432),\n",
       "   (14.187392290249432, 27.445986394557824),\n",
       "   (27.445986394557824, 41.07609977324263),\n",
       "   (41.07609977324263, 65.99111111111111),\n",
       "   (65.99111111111111, 107.69414965986394),\n",
       "   (107.69414965986394, 125.59673469387755),\n",
       "   (125.59673469387755, 160.2873469387755),\n",
       "   (160.2873469387755, 198.69315192743764)],\n",
       "  ['2', '5', '0', '3', '0', '4', '1', '3']),\n",
       " ([(0.0, 14.187392290249432),\n",
       "   (14.187392290249432, 27.051247165532878),\n",
       "   (27.051247165532878, 41.07609977324263),\n",
       "   (41.07609977324263, 64.85333333333334),\n",
       "   (64.85333333333334, 108.06566893424036),\n",
       "   (108.06566893424036, 125.59673469387755),\n",
       "   (125.59673469387755, 160.2873469387755),\n",
       "   (160.2873469387755, 198.69315192743764)],\n",
       "  ['2', '5', '7', '3', '0', '4', '1', '3']),\n",
       " ([(0.0, 14.187392290249432),\n",
       "   (14.187392290249432, 27.051247165532878),\n",
       "   (27.051247165532878, 41.07609977324263),\n",
       "   (41.07609977324263, 65.22485260770975),\n",
       "   (65.22485260770975, 108.06566893424036),\n",
       "   (108.06566893424036, 125.59673469387755),\n",
       "   (125.59673469387755, 159.89260770975056),\n",
       "   (159.89260770975056, 198.69315192743764)],\n",
       "  ['2', '5', '7', '3', '0', '4', '1', '3']),\n",
       " ([(0.0, 14.187392290249432),\n",
       "   (14.187392290249432, 27.051247165532878),\n",
       "   (27.051247165532878, 41.07609977324263),\n",
       "   (41.07609977324263, 65.22485260770975),\n",
       "   (65.22485260770975, 108.06566893424036),\n",
       "   (108.06566893424036, 125.59673469387755),\n",
       "   (125.59673469387755, 159.49786848072563),\n",
       "   (159.49786848072563, 198.69315192743764)],\n",
       "  ['2', '5', '7', '3', '0', '4', '1', '3']),\n",
       " ([(0.0, 14.187392290249432),\n",
       "   (14.187392290249432, 27.051247165532878),\n",
       "   (27.051247165532878, 41.07609977324263),\n",
       "   (41.07609977324263, 65.22485260770975),\n",
       "   (65.22485260770975, 108.06566893424036),\n",
       "   (108.06566893424036, 125.59673469387755),\n",
       "   (125.59673469387755, 159.89260770975056),\n",
       "   (159.89260770975056, 198.69315192743764)],\n",
       "  ['2', '5', '7', '3', '0', '4', '1', '3']),\n",
       " ([(0.0, 14.187392290249432),\n",
       "   (14.187392290249432, 27.051247165532878),\n",
       "   (27.051247165532878, 41.07609977324263),\n",
       "   (41.07609977324263, 64.45859410430839),\n",
       "   (64.45859410430839, 108.06566893424036),\n",
       "   (108.06566893424036, 125.59673469387755),\n",
       "   (125.59673469387755, 159.89260770975056),\n",
       "   (159.89260770975056, 198.69315192743764)],\n",
       "  ['2', '5', '7', '3', '0', '4', '1', '3'])]"
      ]
     },
     "execution_count": 8,
     "metadata": {},
     "output_type": "execute_result"
    }
   ],
   "source": [
    "utils.saveAsJson('segmentation', segmentations)\n",
    "segmentations"
   ]
  },
  {
   "cell_type": "code",
   "execution_count": 9,
   "id": "ab851e95",
   "metadata": {},
   "outputs": [
    {
     "data": {
      "text/plain": [
       "{'Csync': array([[3.09395108, 3.73252801, 4.65542788, ..., 3.33546019, 3.10577791,\n",
       "         2.27310685],\n",
       "        [2.01558814, 0.        , 0.        , ..., 0.        , 0.05297349,\n",
       "         2.90870965],\n",
       "        [3.41129469, 2.51837141, 1.38282921, ..., 0.08347452, 0.14050791,\n",
       "         1.55411082],\n",
       "        ...,\n",
       "        [0.        , 0.        , 0.        , ..., 0.        , 0.        ,\n",
       "         0.        ],\n",
       "        [0.05035277, 0.        , 0.        , ..., 0.10861941, 0.232339  ,\n",
       "         0.        ],\n",
       "        [0.26321883, 0.00823841, 0.06287851, ..., 1.33033402, 0.91670234,\n",
       "         0.08558121]]),\n",
       " 'Msync': array([[0.44606829, 0.44400341, 0.32603704, ..., 0.39158717, 0.41222015,\n",
       "         0.44330893],\n",
       "        [0.30971277, 0.32125102, 0.42299474, ..., 0.09299165, 0.30589893,\n",
       "         0.30965903],\n",
       "        [0.67844105, 0.72222328, 0.79584449, ..., 0.52651399, 0.55670235,\n",
       "         0.67825904],\n",
       "        ...,\n",
       "        [0.60905468, 0.5864849 , 0.63870698, ..., 0.65857737, 0.43365046,\n",
       "         0.60578248],\n",
       "        [0.61311138, 0.65011833, 0.7254103 , ..., 0.7340043 , 0.7009251 ,\n",
       "         0.61624528],\n",
       "        [1.16387355, 1.15486533, 1.11620965, ..., 1.23208985, 1.17047859,\n",
       "         1.16387355]]),\n",
       " 'Hsync': array([[-80., -80., -80., ..., -80., -80., -80.],\n",
       "        [-80., -80., -80., ..., -80., -80., -80.],\n",
       "        [-80., -80., -80., ..., -80., -80., -80.],\n",
       "        ...,\n",
       "        [-80., -80., -80., ..., -80., -80., -80.],\n",
       "        [-80., -80., -80., ..., -80., -80., -80.],\n",
       "        [-80., -80., -80., ..., -80., -80., -80.]]),\n",
       " 'beat_times': array([  0.        ,   0.90557823,   1.30031746,   1.69505669,\n",
       "          2.08979592,   2.48453515,   2.87927438,   3.25079365,\n",
       "          3.62231293,   4.06349206,   4.45823129,   4.85297052,\n",
       "          5.2244898 ,   5.64244898,   6.01396825,   6.40870748,\n",
       "          6.78022676,   7.17496599,   7.56970522,   7.96444444,\n",
       "          8.35918367,   8.7539229 ,   9.14866213,   9.52018141,\n",
       "          9.91492063,  10.28643991,  10.68117914,  11.07591837,\n",
       "         11.4706576 ,  11.86539683,  12.26013605,  12.63165533,\n",
       "         13.0031746 ,  13.39791383,  13.79265306,  14.18739229,\n",
       "         14.55891156,  14.95365079,  15.34839002,  15.74312925,\n",
       "         16.13786848,  16.50938776,  16.90412698,  17.29886621,\n",
       "         17.69360544,  18.08834467,  18.45986395,  18.85460317,\n",
       "         19.22612245,  19.62086168,  20.01560091,  20.41034014,\n",
       "         20.80507937,  21.19981859,  21.57133787,  21.9660771 ,\n",
       "         22.36081633,  22.75555556,  23.12707483,  23.54503401,\n",
       "         23.93977324,  24.33451247,  24.7292517 ,  25.12399093,\n",
       "         25.4955102 ,  25.89024943,  26.26176871,  26.65650794,\n",
       "         27.05124717,  27.44598639,  27.84072562,  28.2122449 ,\n",
       "         28.60698413,  28.9785034 ,  29.35002268,  29.7447619 ,\n",
       "         30.13950113,  30.53424036,  30.92897959,  31.32371882,\n",
       "         31.71845805,  32.08997732,  32.48471655,  32.87945578,\n",
       "         33.27419501,  33.66893424,  34.06367347,  34.43519274,\n",
       "         34.80671202,  35.20145125,  35.59619048,  35.99092971,\n",
       "         36.38566893,  36.78040816,  37.17514739,  37.56988662,\n",
       "         37.96462585,  38.35936508,  38.75410431,  39.14884354,\n",
       "         39.54358277,  39.938322  ,  40.30984127,  40.7045805 ,\n",
       "         41.07609977,  41.470839  ,  41.86557823,  42.23709751,\n",
       "         42.63183673,  43.02657596,  43.42131519,  43.79283447,\n",
       "         44.1875737 ,  44.58231293,  44.97705215,  45.34857143,\n",
       "         45.74331066,  46.13804989,  46.53278912,  46.92752834,\n",
       "         47.32226757,  47.69378685,  48.08852608,  48.48326531,\n",
       "         48.87800454,  49.27274376,  49.64426304,  50.03900227,\n",
       "         50.4337415 ,  50.82848073,  51.2       ,  51.59473923,\n",
       "         51.98947846,  52.38421769,  52.75573696,  53.15047619,\n",
       "         53.54521542,  53.91673469,  54.31147392,  54.6829932 ,\n",
       "         55.10095238,  55.49569161,  55.89043084,  56.28517007,\n",
       "         56.65668934,  57.05142857,  57.4461678 ,  57.84090703,\n",
       "         58.2124263 ,  58.60716553,  59.00190476,  59.39664399,\n",
       "         59.76816327,  60.16290249,  60.55764172,  60.97560091,\n",
       "         61.34712018,  61.74185941,  62.11337868,  62.50811791,\n",
       "         62.90285714,  63.29759637,  63.6923356 ,  64.06385488,\n",
       "         64.4585941 ,  64.85333333,  65.22485261,  65.61959184,\n",
       "         65.99111111,  66.38585034,  66.78058957,  67.1753288 ,\n",
       "         67.57006803,  67.96480726,  68.35954649,  68.73106576,\n",
       "         69.12580499,  69.52054422,  69.91528345,  70.28680272,\n",
       "         70.658322  ,  71.05306122,  71.47102041,  71.84253968,\n",
       "         72.23727891,  72.63201814,  73.00353741,  73.39827664,\n",
       "         73.79301587,  74.1877551 ,  74.55927438,  74.95401361,\n",
       "         75.34875283,  75.74349206,  76.11501134,  76.50975057,\n",
       "         76.9044898 ,  77.29922902,  77.69396825,  78.08870748,\n",
       "         78.48344671,  78.87818594,  79.27292517,  79.64444444,\n",
       "         80.01596372,  80.41070295,  80.80544218,  81.20018141,\n",
       "         81.57170068,  81.96643991,  82.36117914,  82.75591837,\n",
       "         83.12743764,  83.52217687,  83.9169161 ,  84.31165533,\n",
       "         84.70639456,  85.10113379,  85.49587302,  85.86739229,\n",
       "         86.26213152,  86.65687075,  87.02839002,  87.42312925,\n",
       "         87.81786848,  88.21260771,  88.58412698,  88.97886621,\n",
       "         89.37360544,  89.76834467,  90.1630839 ,  90.53460317,\n",
       "         90.9293424 ,  91.32408163,  91.71882086,  92.11356009,\n",
       "         92.50829932,  92.87981859,  93.27455782,  93.66929705,\n",
       "         94.04081633,  94.43555556,  94.83029478,  95.22503401,\n",
       "         95.61977324,  96.01451247,  96.4092517 ,  96.80399093,\n",
       "         97.1755102 ,  97.57024943,  97.96498866,  98.33650794,\n",
       "         98.73124717,  99.12598639,  99.52072562,  99.91546485,\n",
       "        100.28698413, 100.68172336, 101.05324263, 101.44798186,\n",
       "        101.84272109, 102.23746032, 102.63219955, 103.02693878,\n",
       "        103.421678  , 103.81641723, 104.21115646, 104.58267574,\n",
       "        104.97741497, 105.3721542 , 105.76689342, 106.1384127 ,\n",
       "        106.50993197, 106.9046712 , 107.29941043, 107.69414966,\n",
       "        108.06566893, 108.46040816, 108.85514739, 109.24988662,\n",
       "        109.6214059 , 110.01614512, 110.41088435, 110.80562358,\n",
       "        111.20036281, 111.59510204, 111.98984127, 112.36136054,\n",
       "        112.75609977, 113.150839  , 113.54557823, 113.94031746,\n",
       "        114.31183673, 114.70657596, 115.07809524, 115.47283447,\n",
       "        115.8675737 , 116.26231293, 116.65705215, 117.05179138,\n",
       "        117.42331066, 117.81804989, 118.21278912, 118.60752834,\n",
       "        119.00226757, 119.3970068 , 119.79174603, 120.18648526,\n",
       "        120.58122449, 120.97596372, 121.34748299, 121.71900227,\n",
       "        122.09052154, 122.48526077, 122.85678005, 123.25151927,\n",
       "        123.6462585 , 124.04099773, 124.41251701, 124.80725624,\n",
       "        125.20199546, 125.59673469, 125.99147392, 126.38621315,\n",
       "        126.75773243, 127.15247166, 127.54721088, 127.94195011,\n",
       "        128.31346939, 128.70820862, 129.10294785, 129.47446712,\n",
       "        129.8924263 , 130.28716553, 130.65868481, 131.05342404,\n",
       "        131.42494331, 131.81968254, 132.21442177, 132.609161  ,\n",
       "        133.00390023, 133.39863946, 133.77015873, 134.16489796,\n",
       "        134.55963719, 134.93115646, 135.34911565, 135.74385488,\n",
       "        136.1385941 , 136.51011338, 136.90485261, 137.27637188,\n",
       "        137.67111111, 138.06585034, 138.46058957, 138.8553288 ,\n",
       "        139.25006803, 139.6215873 , 139.99310658, 140.41106576,\n",
       "        140.78258503, 141.17732426, 141.57206349, 141.96680272,\n",
       "        142.36154195, 142.75628118, 143.12780045, 143.52253968,\n",
       "        143.91727891, 144.28879819, 144.68353741, 145.07827664,\n",
       "        145.47301587, 145.8677551 , 146.23927438, 146.63401361,\n",
       "        147.02875283, 147.42349206, 147.79501134, 148.18975057,\n",
       "        148.5844898 , 148.97922902, 149.3507483 , 149.74548753,\n",
       "        150.14022676, 150.51174603, 150.92970522, 151.30122449,\n",
       "        151.71918367, 152.09070295, 152.48544218, 152.85696145,\n",
       "        153.25170068, 153.64643991, 154.04117914, 154.43591837,\n",
       "        154.8306576 , 155.20217687, 155.57369615, 155.99165533,\n",
       "        156.3631746 , 156.75791383, 157.15265306, 157.52417234,\n",
       "        157.91891156, 158.31365079, 158.70839002, 159.10312925,\n",
       "        159.49786848, 159.89260771, 160.28734694, 160.68208617,\n",
       "        161.0768254 , 161.47156463, 161.8430839 , 162.23782313,\n",
       "        162.6093424 , 163.00408163, 163.39882086, 163.79356009,\n",
       "        164.18829932, 164.58303855, 164.97777778, 165.34929705,\n",
       "        165.74403628, 166.13877551, 166.51029478, 166.90503401,\n",
       "        167.29977324, 167.69451247, 168.06603175, 168.46077098,\n",
       "        168.8555102 , 169.25024943, 169.62176871, 170.01650794,\n",
       "        170.41124717, 170.80598639, 171.20072562, 171.59546485,\n",
       "        171.96698413, 172.36172336, 172.75646259, 173.15120181,\n",
       "        173.54594104, 173.94068027, 174.3354195 , 174.70693878,\n",
       "        175.101678  , 175.49641723, 175.89115646, 176.28589569,\n",
       "        176.65741497, 177.0521542 , 177.42367347, 177.79519274,\n",
       "        178.18993197, 178.5846712 , 178.97941043, 179.37414966,\n",
       "        179.76888889, 180.16362812, 180.55836735, 180.95310658,\n",
       "        181.3478458 , 181.74258503, 182.11410431, 182.48562358,\n",
       "        182.88036281, 183.27510204, 183.64662132, 184.04136054,\n",
       "        184.43609977, 184.830839  , 185.22557823, 185.62031746,\n",
       "        186.01505669, 186.43301587, 186.80453515, 187.17605442,\n",
       "        187.57079365, 187.96553288, 188.33705215, 188.73179138,\n",
       "        189.12653061, 189.52126984, 189.91600907, 190.3107483 ,\n",
       "        190.72870748, 191.12344671, 191.51818594, 191.91292517,\n",
       "        192.3076644 , 192.70240363, 193.0739229 , 193.49188209,\n",
       "        193.86340136, 194.25814059, 198.69315193]),\n",
       " 'audio_duration': 198.6873469387755}"
      ]
     },
     "execution_count": 9,
     "metadata": {},
     "output_type": "execute_result"
    }
   ],
   "source": [
    "features"
   ]
  },
  {
   "cell_type": "code",
   "execution_count": 10,
   "id": "38f27ad5",
   "metadata": {},
   "outputs": [
    {
     "name": "stderr",
     "output_type": "stream",
     "text": [
      "/home/niagui/miniconda3/envs/musicseg/lib/python3.7/site-packages/librosa/beat.py:309: DeprecationWarning: np.asscalar(a) is deprecated since NumPy v1.16, use a.item() instead\n",
      "  hop_length=hop_length))\n",
      "/home/niagui/miniconda3/envs/musicseg/lib/python3.7/site-packages/librosa/util/utils.py:726: DeprecationWarning: `np.float` is a deprecated alias for the builtin `float`. To silence this warning, use `float` by itself. Doing this will not modify any behavior and is safe. If you specifically wanted the numpy scalar type, use `np.float64` here.\n",
      "Deprecated in NumPy 1.20; for more details and guidance: https://numpy.org/devdocs/release/1.20.0-notes.html#deprecations\n",
      "  mag = np.abs(S).astype(np.float)\n",
      "/home/niagui/miniconda3/envs/musicseg/lib/python3.7/site-packages/librosa/core/time_frequency.py:1081: DeprecationWarning: `np.float` is a deprecated alias for the builtin `float`. To silence this warning, use `float` by itself. Doing this will not modify any behavior and is safe. If you specifically wanted the numpy scalar type, use `np.float64` here.\n",
      "Deprecated in NumPy 1.20; for more details and guidance: https://numpy.org/devdocs/release/1.20.0-notes.html#deprecations\n",
      "  bin_frequencies = np.zeros(int(n_bins), dtype=np.float)\n"
     ]
    }
   ],
   "source": [
    "import librosa as librosa\n",
    "\n",
    "y, sr = librosa.core.audio.load(audiofile)\n",
    "\n",
    "tempo, beattrack = librosa.beat.beat_track(y=y, sr=sr)"
   ]
  },
  {
   "cell_type": "code",
   "execution_count": 22,
   "id": "1b74f113",
   "metadata": {},
   "outputs": [
    {
     "name": "stderr",
     "output_type": "stream",
     "text": [
      "/home/niagui/miniconda3/envs/musicseg/lib/python3.7/site-packages/librosa/beat.py:309: DeprecationWarning: np.asscalar(a) is deprecated since NumPy v1.16, use a.item() instead\n",
      "  hop_length=hop_length))\n",
      "/home/niagui/miniconda3/envs/musicseg/lib/python3.7/site-packages/librosa/util/utils.py:726: DeprecationWarning: `np.float` is a deprecated alias for the builtin `float`. To silence this warning, use `float` by itself. Doing this will not modify any behavior and is safe. If you specifically wanted the numpy scalar type, use `np.float64` here.\n",
      "Deprecated in NumPy 1.20; for more details and guidance: https://numpy.org/devdocs/release/1.20.0-notes.html#deprecations\n",
      "  mag = np.abs(S).astype(np.float)\n",
      "/home/niagui/miniconda3/envs/musicseg/lib/python3.7/site-packages/librosa/core/time_frequency.py:1081: DeprecationWarning: `np.float` is a deprecated alias for the builtin `float`. To silence this warning, use `float` by itself. Doing this will not modify any behavior and is safe. If you specifically wanted the numpy scalar type, use `np.float64` here.\n",
      "Deprecated in NumPy 1.20; for more details and guidance: https://numpy.org/devdocs/release/1.20.0-notes.html#deprecations\n",
      "  bin_frequencies = np.zeros(int(n_bins), dtype=np.float)\n"
     ]
    }
   ],
   "source": [
    "import librosa\n",
    "import librosa.display\n",
    "import matplotlib.pyplot as plt\n",
    "import numpy as np\n",
    "\n",
    "\n",
    "ya, sra = librosa.load(audiofile)\n",
    "\n",
    "y = librosa.resample(ya, orig_sr=sra, target_sr=16000)\n",
    "hop_length = 512\n",
    "tempo, beattrack = librosa.beat.beat_track(y=y, sr=16000, hop_length=hop_length)\n",
    "beat_times = librosa.frames_to_time(beattrack, sr=16000, hop_length=hop_length)\n"
   ]
  },
  {
   "cell_type": "code",
   "execution_count": 27,
   "id": "857ba3ad",
   "metadata": {},
   "outputs": [
    {
     "ename": "ParameterError",
     "evalue": "Buffer is too short (n=0) for frame_length=1",
     "output_type": "error",
     "traceback": [
      "\u001b[0;31m---------------------------------------------------------------------------\u001b[0m",
      "\u001b[0;31mParameterError\u001b[0m                            Traceback (most recent call last)",
      "\u001b[0;32m/tmp/ipykernel_51851/1743447832.py\u001b[0m in \u001b[0;36m<module>\u001b[0;34m\u001b[0m\n\u001b[1;32m     11\u001b[0m \u001b[0;31m# Plot waveform and beat markers\u001b[0m\u001b[0;34m\u001b[0m\u001b[0;34m\u001b[0m\u001b[0;34m\u001b[0m\u001b[0m\n\u001b[1;32m     12\u001b[0m \u001b[0mplt\u001b[0m\u001b[0;34m.\u001b[0m\u001b[0mfigure\u001b[0m\u001b[0;34m(\u001b[0m\u001b[0mfigsize\u001b[0m\u001b[0;34m=\u001b[0m\u001b[0;34m(\u001b[0m\u001b[0;36m14\u001b[0m\u001b[0;34m,\u001b[0m \u001b[0;36m3\u001b[0m\u001b[0;34m)\u001b[0m\u001b[0;34m)\u001b[0m\u001b[0;34m\u001b[0m\u001b[0;34m\u001b[0m\u001b[0m\n\u001b[0;32m---> 13\u001b[0;31m \u001b[0mlibrosa\u001b[0m\u001b[0;34m.\u001b[0m\u001b[0mdisplay\u001b[0m\u001b[0;34m.\u001b[0m\u001b[0mwaveplot\u001b[0m\u001b[0;34m(\u001b[0m\u001b[0my_zoom\u001b[0m\u001b[0;34m,\u001b[0m \u001b[0msr\u001b[0m\u001b[0;34m=\u001b[0m\u001b[0msr\u001b[0m\u001b[0;34m,\u001b[0m \u001b[0malpha\u001b[0m\u001b[0;34m=\u001b[0m\u001b[0;36m0.6\u001b[0m\u001b[0;34m)\u001b[0m\u001b[0;34m\u001b[0m\u001b[0;34m\u001b[0m\u001b[0m\n\u001b[0m\u001b[1;32m     14\u001b[0m \u001b[0mplt\u001b[0m\u001b[0;34m.\u001b[0m\u001b[0mvlines\u001b[0m\u001b[0;34m(\u001b[0m\u001b[0mbeat_times_zoom\u001b[0m\u001b[0;34m,\u001b[0m \u001b[0mymin\u001b[0m\u001b[0;34m=\u001b[0m\u001b[0;34m-\u001b[0m\u001b[0;36m1\u001b[0m\u001b[0;34m,\u001b[0m \u001b[0mymax\u001b[0m\u001b[0;34m=\u001b[0m\u001b[0;36m1\u001b[0m\u001b[0;34m,\u001b[0m \u001b[0mcolor\u001b[0m\u001b[0;34m=\u001b[0m\u001b[0;34m'red'\u001b[0m\u001b[0;34m,\u001b[0m \u001b[0mlinestyles\u001b[0m\u001b[0;34m=\u001b[0m\u001b[0;34m'--'\u001b[0m\u001b[0;34m,\u001b[0m \u001b[0mlabel\u001b[0m\u001b[0;34m=\u001b[0m\u001b[0;34m'Beats'\u001b[0m\u001b[0;34m)\u001b[0m\u001b[0;34m\u001b[0m\u001b[0;34m\u001b[0m\u001b[0m\n\u001b[1;32m     15\u001b[0m \u001b[0mplt\u001b[0m\u001b[0;34m.\u001b[0m\u001b[0mxlim\u001b[0m\u001b[0;34m(\u001b[0m\u001b[0mstart_time\u001b[0m\u001b[0;34m,\u001b[0m \u001b[0mend_time\u001b[0m\u001b[0;34m)\u001b[0m\u001b[0;34m\u001b[0m\u001b[0;34m\u001b[0m\u001b[0m\n",
      "\u001b[0;32m~/miniconda3/envs/musicseg/lib/python3.7/site-packages/librosa/display.py\u001b[0m in \u001b[0;36mwaveplot\u001b[0;34m(y, sr, max_points, x_axis, offset, max_sr, ax, **kwargs)\u001b[0m\n\u001b[1;32m    462\u001b[0m \u001b[0;34m\u001b[0m\u001b[0m\n\u001b[1;32m    463\u001b[0m         \u001b[0;32mif\u001b[0m \u001b[0my\u001b[0m\u001b[0;34m.\u001b[0m\u001b[0mndim\u001b[0m \u001b[0;34m==\u001b[0m \u001b[0;36m1\u001b[0m\u001b[0;34m:\u001b[0m\u001b[0;34m\u001b[0m\u001b[0;34m\u001b[0m\u001b[0m\n\u001b[0;32m--> 464\u001b[0;31m             \u001b[0my\u001b[0m \u001b[0;34m=\u001b[0m \u001b[0m__envelope\u001b[0m\u001b[0;34m(\u001b[0m\u001b[0my\u001b[0m\u001b[0;34m,\u001b[0m \u001b[0mhop_length\u001b[0m\u001b[0;34m)\u001b[0m\u001b[0;34m\u001b[0m\u001b[0;34m\u001b[0m\u001b[0m\n\u001b[0m\u001b[1;32m    465\u001b[0m         \u001b[0;32melse\u001b[0m\u001b[0;34m:\u001b[0m\u001b[0;34m\u001b[0m\u001b[0;34m\u001b[0m\u001b[0m\n\u001b[1;32m    466\u001b[0m             \u001b[0my\u001b[0m \u001b[0;34m=\u001b[0m \u001b[0mnp\u001b[0m\u001b[0;34m.\u001b[0m\u001b[0mvstack\u001b[0m\u001b[0;34m(\u001b[0m\u001b[0;34m[\u001b[0m\u001b[0m__envelope\u001b[0m\u001b[0;34m(\u001b[0m\u001b[0m_\u001b[0m\u001b[0;34m,\u001b[0m \u001b[0mhop_length\u001b[0m\u001b[0;34m)\u001b[0m \u001b[0;32mfor\u001b[0m \u001b[0m_\u001b[0m \u001b[0;32min\u001b[0m \u001b[0my\u001b[0m\u001b[0;34m]\u001b[0m\u001b[0;34m)\u001b[0m\u001b[0;34m\u001b[0m\u001b[0;34m\u001b[0m\u001b[0m\n",
      "\u001b[0;32m~/miniconda3/envs/musicseg/lib/python3.7/site-packages/librosa/display.py\u001b[0m in \u001b[0;36m__envelope\u001b[0;34m(x, hop)\u001b[0m\n\u001b[1;32m    357\u001b[0m \u001b[0;32mdef\u001b[0m \u001b[0m__envelope\u001b[0m\u001b[0;34m(\u001b[0m\u001b[0mx\u001b[0m\u001b[0;34m,\u001b[0m \u001b[0mhop\u001b[0m\u001b[0;34m)\u001b[0m\u001b[0;34m:\u001b[0m\u001b[0;34m\u001b[0m\u001b[0;34m\u001b[0m\u001b[0m\n\u001b[1;32m    358\u001b[0m     \u001b[0;34m'''Compute the max-envelope of x at a stride/frame length of h'''\u001b[0m\u001b[0;34m\u001b[0m\u001b[0;34m\u001b[0m\u001b[0m\n\u001b[0;32m--> 359\u001b[0;31m     \u001b[0;32mreturn\u001b[0m \u001b[0mutil\u001b[0m\u001b[0;34m.\u001b[0m\u001b[0mframe\u001b[0m\u001b[0;34m(\u001b[0m\u001b[0mx\u001b[0m\u001b[0;34m,\u001b[0m \u001b[0mhop_length\u001b[0m\u001b[0;34m=\u001b[0m\u001b[0mhop\u001b[0m\u001b[0;34m,\u001b[0m \u001b[0mframe_length\u001b[0m\u001b[0;34m=\u001b[0m\u001b[0mhop\u001b[0m\u001b[0;34m)\u001b[0m\u001b[0;34m.\u001b[0m\u001b[0mmax\u001b[0m\u001b[0;34m(\u001b[0m\u001b[0maxis\u001b[0m\u001b[0;34m=\u001b[0m\u001b[0;36m0\u001b[0m\u001b[0;34m)\u001b[0m\u001b[0;34m\u001b[0m\u001b[0;34m\u001b[0m\u001b[0m\n\u001b[0m\u001b[1;32m    360\u001b[0m \u001b[0;34m\u001b[0m\u001b[0m\n\u001b[1;32m    361\u001b[0m \u001b[0;34m\u001b[0m\u001b[0m\n",
      "\u001b[0;32m~/miniconda3/envs/musicseg/lib/python3.7/site-packages/librosa/util/utils.py\u001b[0m in \u001b[0;36mframe\u001b[0;34m(y, frame_length, hop_length)\u001b[0m\n\u001b[1;32m     91\u001b[0m     \u001b[0;32mif\u001b[0m \u001b[0mlen\u001b[0m\u001b[0;34m(\u001b[0m\u001b[0my\u001b[0m\u001b[0;34m)\u001b[0m \u001b[0;34m<\u001b[0m \u001b[0mframe_length\u001b[0m\u001b[0;34m:\u001b[0m\u001b[0;34m\u001b[0m\u001b[0;34m\u001b[0m\u001b[0m\n\u001b[1;32m     92\u001b[0m         raise ParameterError('Buffer is too short (n={:d})'\n\u001b[0;32m---> 93\u001b[0;31m                              ' for frame_length={:d}'.format(len(y), frame_length))\n\u001b[0m\u001b[1;32m     94\u001b[0m \u001b[0;34m\u001b[0m\u001b[0m\n\u001b[1;32m     95\u001b[0m     \u001b[0;32mif\u001b[0m \u001b[0mhop_length\u001b[0m \u001b[0;34m<\u001b[0m \u001b[0;36m1\u001b[0m\u001b[0;34m:\u001b[0m\u001b[0;34m\u001b[0m\u001b[0;34m\u001b[0m\u001b[0m\n",
      "\u001b[0;31mParameterError\u001b[0m: Buffer is too short (n=0) for frame_length=1"
     ]
    },
    {
     "data": {
      "text/plain": [
       "<Figure size 1400x300 with 0 Axes>"
      ]
     },
     "metadata": {},
     "output_type": "display_data"
    }
   ],
   "source": [
    "\n",
    "#zooming\n",
    "\n",
    "start_time = 180\n",
    "end_time = 197\n",
    "start_sample = int(start_time * sr)\n",
    "end_sample = int(end_time * sr)\n",
    "y_zoom = y[start_sample:end_sample]\n",
    "\n",
    "beat_times_zoom = beat_times[(beat_times >= start_time) & (beat_times <= end_time)]\n",
    "\n",
    "# Plot waveform and beat markers\n",
    "plt.figure(figsize=(14, 3))\n",
    "librosa.display.waveplot(y_zoom, sr=sr, alpha=0.6)\n",
    "plt.vlines(beat_times_zoom, ymin=-1, ymax=1, color='red', linestyles='--', label='Beats')\n",
    "plt.xlim(start_time, end_time)\n",
    "plt.ylim(-1, 1)\n",
    "plt.xlabel(\"Time (s)\")\n",
    "plt.title(\"Waveform with Beat Markers\")\n",
    "plt.yticks([])\n",
    "plt.legend()\n",
    "plt.tight_layout()\n",
    "plt.grid(True, axis='x', linestyle=':', alpha=0.4)\n",
    "plt.show()\n"
   ]
  },
  {
   "cell_type": "code",
   "execution_count": 23,
   "id": "c8cd71cd",
   "metadata": {},
   "outputs": [],
   "source": [
    "beat_times\n",
    "utils.saveAsJson('beatTrack', beat_times.tolist())\n",
    "\n"
   ]
  },
  {
   "cell_type": "code",
   "execution_count": 24,
   "id": "083aaa30",
   "metadata": {},
   "outputs": [
    {
     "data": {
      "text/plain": [
       "array([  0.864,   1.632,   2.24 ,   2.848,   3.616,   4.416,   5.184,\n",
       "         5.984,   6.752,   7.52 ,   8.32 ,   9.12 ,   9.888,  10.656,\n",
       "        11.424,  12.224,  12.992,  13.76 ,  14.528,  15.328,  16.096,\n",
       "        16.864,  17.664,  18.432,  19.2  ,  19.968,  20.768,  21.536,\n",
       "        22.336,  23.104,  23.904,  24.672,  25.376,  26.08 ,  26.784,\n",
       "        27.488,  28.192,  28.96 ,  29.728,  30.496,  31.296,  32.064,\n",
       "        32.832,  33.632,  34.4  ,  35.168,  35.968,  36.736,  37.536,\n",
       "        38.24 ,  38.944,  39.648,  40.352,  41.056,  41.824,  42.592,\n",
       "        43.392,  44.16 ,  44.928,  45.728,  46.496,  47.296,  48.064,\n",
       "        48.832,  49.632,  50.4  ,  51.168,  51.936,  52.736,  53.504,\n",
       "        54.304,  55.072,  55.84 ,  56.64 ,  57.408,  58.176,  58.976,\n",
       "        59.744,  60.512,  61.312,  62.08 ,  62.848,  63.616,  64.32 ,\n",
       "        65.024,  65.76 ,  66.464,  67.2  ,  67.936,  68.704,  69.472,\n",
       "        70.24 ,  71.04 ,  71.808,  72.608,  73.376,  74.144,  74.912,\n",
       "        75.712,  76.48 ,  77.248,  78.048,  78.816,  79.584,  80.384,\n",
       "        81.152,  81.952,  82.72 ,  83.488,  84.288,  85.056,  85.824,\n",
       "        86.624,  87.392,  88.16 ,  88.96 ,  89.728,  90.496,  91.296,\n",
       "        92.064,  92.832,  93.632,  94.4  ,  95.2  ,  95.968,  96.768,\n",
       "        97.536,  98.304,  99.072,  99.872, 100.64 , 101.408, 102.208,\n",
       "       102.976, 103.744, 104.544, 105.312, 106.08 , 106.88 , 107.648,\n",
       "       108.416, 109.216, 109.984, 110.752, 111.552, 112.32 , 113.088,\n",
       "       113.856, 114.656, 115.424, 116.224, 117.024, 117.824, 118.592,\n",
       "       119.36 , 120.128, 120.928, 121.696, 122.496, 123.264, 124.032,\n",
       "       124.8  , 125.568, 126.336, 127.136, 127.904, 128.672, 129.44 ,\n",
       "       130.24 , 131.008, 131.808, 132.576, 133.376, 134.144, 134.912,\n",
       "       135.712, 136.48 , 137.248, 138.016, 138.816, 139.584, 140.384,\n",
       "       141.152, 141.92 , 142.72 , 143.488, 144.256, 145.024, 145.824,\n",
       "       146.592, 147.392, 148.16 , 148.928, 149.696, 150.464, 151.264,\n",
       "       152.064, 152.832, 153.6  , 154.4  , 155.168, 155.936, 156.704,\n",
       "       157.504, 158.272, 159.04 , 159.84 , 160.512, 161.184, 161.824,\n",
       "       162.592, 163.36 , 164.16 , 164.928, 165.696, 166.464, 167.264,\n",
       "       168.032, 168.8  , 169.6  , 170.368, 171.168, 171.936, 172.736,\n",
       "       173.504, 174.304, 175.072, 175.84 , 176.64 , 177.408, 178.176,\n",
       "       178.944, 179.744, 180.512, 181.312, 182.08 , 182.848, 183.616,\n",
       "       184.384, 185.184, 185.984, 186.784, 187.552, 188.32 , 189.088,\n",
       "       189.792, 190.496, 191.2  , 191.936, 192.672])"
      ]
     },
     "execution_count": 24,
     "metadata": {},
     "output_type": "execute_result"
    }
   ],
   "source": [
    "beat_times"
   ]
  }
 ],
 "metadata": {
  "kernelspec": {
   "display_name": "musicseg",
   "language": "python",
   "name": "python3"
  },
  "language_info": {
   "codemirror_mode": {
    "name": "ipython",
    "version": 3
   },
   "file_extension": ".py",
   "mimetype": "text/x-python",
   "name": "python",
   "nbconvert_exporter": "python",
   "pygments_lexer": "ipython3",
   "version": "3.7.16"
  }
 },
 "nbformat": 4,
 "nbformat_minor": 5
}
